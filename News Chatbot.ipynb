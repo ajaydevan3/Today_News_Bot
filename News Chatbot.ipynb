{
 "cells": [
  {
   "cell_type": "code",
   "execution_count": null,
   "id": "0bd53913-7666-45a9-8412-f3af6db37d95",
   "metadata": {},
   "outputs": [
    {
     "name": "stdin",
     "output_type": "stream",
     "text": [
      "Hello! Would you like to hear today's top news? (yes/no/exit):  no\n"
     ]
    },
    {
     "name": "stdout",
     "output_type": "stream",
     "text": [
      "Okay, let me know if you need updates later!\n"
     ]
    },
    {
     "name": "stdin",
     "output_type": "stream",
     "text": [
      "Hello! Would you like to hear today's top news? (yes/no/exit):  no\n"
     ]
    },
    {
     "name": "stdout",
     "output_type": "stream",
     "text": [
      "Okay, let me know if you need updates later!\n"
     ]
    },
    {
     "name": "stdin",
     "output_type": "stream",
     "text": [
      "Hello! Would you like to hear today's top news? (yes/no/exit):  Yes\n"
     ]
    },
    {
     "name": "stdout",
     "output_type": "stream",
     "text": [
      "Top news headlines for 2024-10-03:\n",
      "\n",
      "1. CBS cut mics and fact-checked JD Vance in a more civil VP debate, drawing the ire of Trump and his allies - CNN\n",
      "   Source: CNN\n",
      "   URL: https://www.cnn.com/2024/10/02/media/vance-walz-debate-cbs-moderators-fact-check/index.html\n",
      "\n",
      "2. Israel beefs up forces on Lebanon border as Hezbollah reports clashes with troops - Reuters\n",
      "   Source: Reuters\n",
      "   URL: https://www.reuters.com/world/middle-east/iran-says-it-has-finished-attack-israel-amid-fears-spreading-conflict-2024-10-02/\n",
      "\n",
      "3. Palestinian officials say 51 killed in Israeli operation on southern Gaza - The Associated Press\n",
      "   Source: Associated Press\n",
      "   URL: https://apnews.com/article/israel-iran-lebanon-hezbollah-gaza-news-10-02-2024-7d93f71b7894177b4f9c303671ee55de\n",
      "\n",
      "4. [Removed]\n",
      "   Source: [Removed]\n",
      "   URL: https://removed.com\n",
      "\n",
      "5. US port strike backed by White House - Reuters\n",
      "   Source: Reuters\n",
      "   URL: https://www.reuters.com/world/us/white-house-sides-with-union-dockworker-strike-enters-second-day-2024-10-02/\n",
      "\n"
     ]
    }
   ],
   "source": [
    "from newsapi import NewsApiClient\n",
    "from datetime import datetime\n",
    "\n",
    "# Step 1: Initialize the News API client with your API key\n",
    "api_key = 'ffee5000fc9f479eaa43d0b53136c7dd'\n",
    "newsapi = NewsApiClient(api_key=api_key)\n",
    "\n",
    "# Step 2: Function to fetch top news headlines\n",
    "def fetch_daily_news():\n",
    "    # Get the top headlines (can specify the country, category, etc.)\n",
    "    top_headlines = newsapi.get_top_headlines(\n",
    "        language='en',  # Fetch English news\n",
    "        country='us',   # Fetch news from the US (change as required)\n",
    "        category='general'  # Fetch general news (can change to technology, sports, etc.)\n",
    "    )\n",
    "\n",
    "    # Step 3: Display the headlines\n",
    "    articles = top_headlines['articles']\n",
    "    if not articles:\n",
    "        print(\"No news available.\")\n",
    "        return\n",
    "    \n",
    "    print(f\"Top news headlines for {datetime.now().strftime('%Y-%m-%d')}:\\n\")\n",
    "    for i, article in enumerate(articles[:5], start=1):  # Limit to top 5 articles\n",
    "        print(f\"{i}. {article['title']}\")\n",
    "        print(f\"   Source: {article['source']['name']}\")\n",
    "        print(f\"   URL: {article['url']}\\n\")\n",
    "\n",
    "# Step 4: Chatbot-style interaction\n",
    "def chatbot():\n",
    "    while True:\n",
    "        user_input = input(\"Hello! Would you like to hear today's top news? (yes/no/exit): \").lower()\n",
    "        if user_input == 'yes':\n",
    "            fetch_daily_news()\n",
    "        elif user_input == 'no':\n",
    "            print(\"Okay, let me know if you need updates later!\")\n",
    "        elif user_input == 'exit':\n",
    "            print(\"Goodbye!\")\n",
    "            break\n",
    "        else:\n",
    "            print(\"I didn't understand that. Please respond with 'yes', 'no', or 'exit'.\")\n",
    "\n",
    "# Run the chatbot\n",
    "chatbot()\n"
   ]
  },
  {
   "cell_type": "code",
   "execution_count": null,
   "id": "f3315c38-aaf1-4bc2-9f5a-262b5bbc13ab",
   "metadata": {},
   "outputs": [],
   "source": []
  }
 ],
 "metadata": {
  "kernelspec": {
   "display_name": "Python 3 (ipykernel)",
   "language": "python",
   "name": "python3"
  },
  "language_info": {
   "codemirror_mode": {
    "name": "ipython",
    "version": 3
   },
   "file_extension": ".py",
   "mimetype": "text/x-python",
   "name": "python",
   "nbconvert_exporter": "python",
   "pygments_lexer": "ipython3",
   "version": "3.12.6"
  }
 },
 "nbformat": 4,
 "nbformat_minor": 5
}
